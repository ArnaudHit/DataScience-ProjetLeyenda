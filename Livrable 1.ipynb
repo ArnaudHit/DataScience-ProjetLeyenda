{
 "cells": [
  {
   "cell_type": "markdown",
   "source": [
    "# Projet LEYENDA\n",
    "## Livrable 1 - Classification Binaire"
   ],
   "metadata": {
    "collapsed": false
   },
   "id": "4bbcdab41f7ad26c"
  },
  {
   "cell_type": "markdown",
   "source": [
    "# 1-Importation des bibliothèques\n",
    "On va regrouper ici l'ensemble des bibliothèques que nous allons utiliser dans ce nootbook"
   ],
   "metadata": {
    "collapsed": false
   },
   "id": "d7705d02550f9b2d"
  },
  {
   "cell_type": "code",
   "execution_count": 1,
   "outputs": [
    {
     "name": "stderr",
     "output_type": "stream",
     "text": [
      "D:\\Applications\\Annaconda\\lib\\site-packages\\scipy\\__init__.py:155: UserWarning: A NumPy version >=1.18.5 and <1.25.0 is required for this version of SciPy (detected version 1.26.0\n",
      "  warnings.warn(f\"A NumPy version >={np_minversion} and <{np_maxversion}\"\n"
     ]
    }
   ],
   "source": [
    "import matplotlib.pyplot as plt\n",
    "import numpy as np\n",
    "import os\n",
    "import PIL\n",
    "import tensorflow as tf\n",
    "import pathlib\n",
    "import zipfile\n",
    "\n",
    "from tensorflow import keras\n",
    "from tensorflow.keras import layers\n",
    "from tensorflow.keras.models import Sequential"
   ],
   "metadata": {
    "collapsed": false,
    "ExecuteTime": {
     "end_time": "2023-10-06T09:12:44.518039100Z",
     "start_time": "2023-10-06T09:12:25.992010100Z"
    }
   },
   "id": "4ff84e3050962ffd"
  },
  {
   "cell_type": "markdown",
   "source": [
    "# 2-Préparation des images\n",
    "#### Dézip des fichiers"
   ],
   "metadata": {
    "collapsed": false
   },
   "id": "ab9c6473dd452b67"
  },
  {
   "cell_type": "code",
   "execution_count": 2,
   "outputs": [
    {
     "name": "stdout",
     "output_type": "stream",
     "text": [
      "Fichier Dataset Livrable 1 - Painting.zip décompressé dans le dossier Dataset.\n",
      "Fichier Dataset Livrable 1 - Photo.zip décompressé dans le dossier Dataset.\n",
      "Fichier Dataset Livrable 1 - Schematics.zip décompressé dans le dossier Dataset.\n",
      "Fichier Dataset Livrable 1 - Sketch.zip décompressé dans le dossier Dataset.\n",
      "Fichier Dataset Livrable 1 - Text.zip décompressé dans le dossier Dataset.\n",
      "Tous les fichiers ZIP ont été décompressés dans le dossier Dataset\n"
     ]
    }
   ],
   "source": [
    "repertoire = 'D:/Ecole/2023-2024 A5/Data Scientist/Projet/DataL1'\n",
    "dossier_dataset = 'D:/Ecole/2023-2024 A5/Data Scientist/Projet/Data'\n",
    "if not os.path.exists(dossier_dataset):\n",
    "    os.makedirs(dossier_dataset)\n",
    "    \n",
    "for fichier in os.listdir(repertoire):\n",
    "    chemin_fichier = os.path.join(repertoire,fichier)\n",
    "    if zipfile.is_zipfile(chemin_fichier):\n",
    "        with zipfile.ZipFile(chemin_fichier, 'r') as zip_ref:\n",
    "            zip_ref.extractall(dossier_dataset)\n",
    "            print(f'Fichier {fichier} décompressé dans le dossier Dataset.')\n",
    "print('Tous les fichiers ZIP ont été décompressés dans le dossier Dataset')"
   ],
   "metadata": {
    "collapsed": false,
    "ExecuteTime": {
     "end_time": "2023-10-06T09:20:11.130697100Z",
     "start_time": "2023-10-06T09:14:14.120246100Z"
    }
   },
   "id": "f5ec94da62cf051e"
  },
  {
   "cell_type": "markdown",
   "source": [
    "#### Emplacement du dataset\n",
    "On spécifie ensuite l'emplacement du dataset et on met en place la variable data_dir."
   ],
   "metadata": {
    "collapsed": false
   },
   "id": "dc79384cddaa1e06"
  },
  {
   "cell_type": "code",
   "execution_count": 8,
   "outputs": [],
   "source": [
    "datapath = dossier_dataset\n",
    "data_dir = pathlib.Path(datapath)"
   ],
   "metadata": {
    "collapsed": false,
    "ExecuteTime": {
     "end_time": "2023-10-06T09:50:48.992515100Z",
     "start_time": "2023-10-06T09:50:48.897568300Z"
    }
   },
   "id": "55e8603cf19c764c"
  },
  {
   "cell_type": "markdown",
   "source": [
    "### Création des Set\n",
    "Pour commencer, on spécifie quelques paramètres pour l'apprentissage :\n",
    "<ul>\n",
    "    <li>La longueur et la largeur des images. </li>\n",
    "    <li>La taille du batch.</li>\n",
    "</ul>\n",
    "On crée maintenant nos deux sets, un d'entraînement (80% des data) et un de test (20% des data)."
   ],
   "metadata": {
    "collapsed": false
   },
   "id": "adbba4b481bd2b7d"
  },
  {
   "cell_type": "code",
   "execution_count": 21,
   "outputs": [],
   "source": [
    "image_h = 80\n",
    "image_w = 80\n",
    "batch_s = 32"
   ],
   "metadata": {
    "collapsed": false,
    "ExecuteTime": {
     "end_time": "2023-10-06T11:21:13.782355400Z",
     "start_time": "2023-10-06T11:21:13.672996100Z"
    }
   },
   "id": "2421b5f437d9cb68"
  },
  {
   "cell_type": "code",
   "execution_count": 22,
   "outputs": [
    {
     "name": "stdout",
     "output_type": "stream",
     "text": [
      "Found 41399 files belonging to 5 classes.\n",
      "Using 33120 files for training.\n",
      "Found 41399 files belonging to 5 classes.\n",
      "Using 8279 files for validation.\n"
     ]
    }
   ],
   "source": [
    "# Le train_set\n",
    "train_set = tf.keras.preprocessing.image_dataset_from_directory(\n",
    "    data_dir,\n",
    "    validation_split=  0.2,\n",
    "    subset =  \"training\",\n",
    "    seed=42,\n",
    "    image_size=(image_h, image_w),\n",
    "    batch_size=batch_s\n",
    ")\n",
    "# Le test_set\n",
    "test_set = tf.keras.preprocessing.image_dataset_from_directory(\n",
    "    data_dir,\n",
    "    validation_split=  0.2,\n",
    "    subset =  \"validation\",\n",
    "    seed=42,\n",
    "    image_size=(image_h, image_w),\n",
    "    batch_size=batch_s\n",
    ")"
   ],
   "metadata": {
    "collapsed": false,
    "ExecuteTime": {
     "end_time": "2023-10-06T11:21:21.294176Z",
     "start_time": "2023-10-06T11:21:15.966329500Z"
    }
   },
   "id": "ebeaf5921868e37c"
  },
  {
   "cell_type": "markdown",
   "source": [
    "On en profite pour vérifier que les labels ont bien été trouvés :"
   ],
   "metadata": {
    "collapsed": false
   },
   "id": "30430c14ac8d839e"
  },
  {
   "cell_type": "code",
   "execution_count": 23,
   "outputs": [
    {
     "name": "stdout",
     "output_type": "stream",
     "text": [
      "['Painting', 'Photo', 'Schematics', 'Sketch', 'Text']\n"
     ]
    }
   ],
   "source": [
    "class_names = train_set.class_names\n",
    "print(class_names)"
   ],
   "metadata": {
    "collapsed": false,
    "ExecuteTime": {
     "end_time": "2023-10-06T11:21:21.309753700Z",
     "start_time": "2023-10-06T11:21:21.294176Z"
    }
   },
   "id": "ae9a6d420817ad65"
  },
  {
   "cell_type": "markdown",
   "source": [
    "# 3 - Coup d'œil sur nos données\n",
    "On peut affichage une des images du set d'entraînements, aux dimensions spécifiées dans les paramètres :"
   ],
   "metadata": {
    "collapsed": false
   },
   "id": "641956c8d7dbedd7"
  },
  {
   "cell_type": "code",
   "execution_count": 24,
   "outputs": [
    {
     "data": {
      "text/plain": "<Figure size 800x800 with 1 Axes>",
      "image/png": "[encoded data removed]"
     },
     "metadata": {},
     "output_type": "display_data"
    }
   ],
   "source": [
    "import matplotlib.pyplot as plt\n",
    "\n",
    "plt.figure(figsize=(8, 8))\n",
    "for images, labels in train_set.take(1):\n",
    "    for i in range(9):\n",
    "        ax =  plt.imshow(images[i].numpy().astype(\"uint8\"))\n",
    "        plt.title(class_names[labels[i]])\n",
    "        plt.axis(\"off\")"
   ],
   "metadata": {
    "collapsed": false,
    "ExecuteTime": {
     "end_time": "2023-10-06T11:22:42.100103500Z",
     "start_time": "2023-10-06T11:22:41.043374700Z"
    }
   },
   "id": "7de352088c714a3d"
  },
  {
   "cell_type": "code",
   "execution_count": null,
   "outputs": [],
   "source": [
    "AUTOTUNE = tf.data.experimental.AUTOTUNE\n",
    "\n",
    "train_set = train_set.cache().shuffle(1000).prefetch(buffer_size=AUTOTUNE)\n",
    "test_set = test_set.cache().prefetch(buffer_size=AUTOTUNE)"
   ],
   "metadata": {
    "collapsed": false,
    "ExecuteTime": {
     "start_time": "2023-10-03T13:37:35.933310700Z"
    }
   },
   "id": "f9e192d688c4f87"
  },
  {
   "cell_type": "code",
   "execution_count": null,
   "outputs": [],
   "source": [
    "num_classes = 5 # Nombre de classes et donc aussi nombre de neurones dans la dernière couche\n",
    "model = Sequential()"
   ],
   "metadata": {
    "collapsed": false,
    "ExecuteTime": {
     "start_time": "2023-10-03T13:37:35.933310700Z"
    }
   },
   "id": "dadbd60a8636b643"
  },
  {
   "cell_type": "code",
   "execution_count": null,
   "outputs": [],
   "source": [
    "model.add(layers.experimental.preprocessing.Rescaling(1./255))"
   ],
   "metadata": {
    "collapsed": false,
    "ExecuteTime": {
     "start_time": "2023-10-03T13:37:35.933310700Z"
    }
   },
   "id": "cbebbf44b9649bd3"
  },
  {
   "cell_type": "code",
   "execution_count": null,
   "outputs": [],
   "source": [
    "# Couche de convolution\n",
    "model.add(layers.Conv2D(16, (3, 3), activation='relu', padding='same'))\n",
    "# Couche de pooling\n",
    "model.add(layers.MaxPooling2D((2, 2)))"
   ],
   "metadata": {
    "collapsed": false,
    "ExecuteTime": {
     "start_time": "2023-10-03T13:37:35.933310700Z"
    }
   },
   "id": "cfd0928113c49f5a"
  },
  {
   "cell_type": "code",
   "execution_count": null,
   "outputs": [],
   "source": [
    "# Bloc convolutif ou la taille du filtre est de (32, 3)\n",
    "model.add(layers.Conv2D(32, (3, 3), activation='relu', padding='same'))\n",
    "\n",
    "# Bloc convolutif ou la taille du filtre est de (64, 3)\n",
    "model.add(layers.Conv2D(64, (3, 3), activation='relu', padding='same'))\n",
    "\n",
    "# Applatissement de la couche\n",
    "model.add(layers.Flatten())\n",
    "\n",
    "# Couche entièrement connectée (couche dense)\n",
    "model.add(layers.Dense(128, activation='relu'))\n",
    "\n",
    "# Couche entièrement connectée retournant le résultat de la classification\n",
    "model.add(layers.Dense(num_classes))\n",
    "\n",
    "model.build((None, image_h, image_w, 3))\n",
    "model.summary()"
   ],
   "metadata": {
    "collapsed": false,
    "ExecuteTime": {
     "start_time": "2023-10-03T13:37:35.933310700Z"
    }
   },
   "id": "c31dfe85feb177eb"
  },
  {
   "cell_type": "code",
   "execution_count": null,
   "outputs": [],
   "source": [
    "model.compile(optimizer =  'adam',\n",
    "              loss =  tf.keras.losses.SparseCategoricalCrossentropy(from_logits=True),\n",
    "              metrics=['accuracy'])\n",
    "model.summary()"
   ],
   "metadata": {
    "collapsed": false,
    "ExecuteTime": {
     "start_time": "2023-10-03T13:37:35.933310700Z"
    }
   },
   "id": "e8bc0dd3cecd81d7"
  },
  {
   "cell_type": "code",
   "execution_count": null,
   "outputs": [],
   "source": [
    "from keras.src.layers.preprocessing.image_preprocessing import HORIZONTAL_AND_VERTICAL\n",
    "from keras.src.layers.preprocessing.image_preprocessing import RandomFlip\n",
    "from keras.src.layers.preprocessing.image_preprocessing import RandomRotation\n",
    "from keras.src.layers.preprocessing.image_preprocessing import RandomZoom\n",
    "from keras import Sequential\n",
    "\n",
    "data_augmentation = Sequential(\n",
    "    [\n",
    "        RandomFlip(\n",
    "            mode=HORIZONTAL_AND_VERTICAL,\n",
    "            input_shape=(image_h, image_w, 3)),\n",
    "        RandomRotation(\n",
    "            factor=0.18,\n",
    "            fill_mode='reflect',\n",
    "            interpolation='bilinear',\n",
    "            seed=None,\n",
    "            fill_value=0.0),\n",
    "        RandomZoom(\n",
    "            height_factor=0.1,\n",
    "            width_factor=None,\n",
    "            fill_mode='reflect',\n",
    "            interpolation='bilinear',\n",
    "            seed=None,\n",
    "            fill_value=0.0)\n",
    "    ]\n",
    ")"
   ],
   "metadata": {
    "collapsed": false,
    "ExecuteTime": {
     "start_time": "2023-10-03T13:37:35.933310700Z"
    }
   },
   "id": "d959b2e8aa790225"
  },
  {
   "cell_type": "code",
   "execution_count": null,
   "outputs": [],
   "source": [
    "# Le modèle\n",
    "epochs = 8\n",
    "complete_model =  Sequential([\n",
    "    layers.experimental.preprocessing.Rescaling(1./255),\n",
    "    data_augmentation,\n",
    "    layers.Conv2D(16, (3, 3), activation='relu', padding='same'),\n",
    "    layers.MaxPooling2D((2, 2)),\n",
    "    layers.Conv2D(32, (3, 3), activation='relu', padding='same'),\n",
    "    layers.Conv2D(64, (3, 3), activation='relu', padding='same'),\n",
    "    layers.Dropout(0.5),\n",
    "    layers.Flatten(),\n",
    "    layers.Dense(128, activation='relu'),\n",
    "    layers.Dense(num_classes)\n",
    "])\n",
    "complete_model.build((None, image_h, image_w, 3))\n",
    "# Compilation du modèle\n",
    "complete_model.compile(optimizer =  'adam',\n",
    "                       loss =  tf.keras.losses.SparseCategoricalCrossentropy(from_logits=True),\n",
    "                       metrics=['accuracy'])\n",
    "# Résumé du modèle\n",
    "complete_model.summary()\n",
    "# Enrainement du modèle\n",
    "history =  complete_model.fit(\n",
    "    train_set,\n",
    "    validation_data=test_set,\n",
    "    epochs=epochs\n",
    ")\n",
    "acc = history.history['accuracy']\n",
    "val_acc = history.history['val_accuracy']\n",
    "\n",
    "loss = history.history['loss']\n",
    "val_loss = history.history['val_loss']\n",
    "\n",
    "epochs_range = range(epochs)\n",
    "\n",
    "plt.figure(figsize=(16, 8))\n",
    "plt.subplot(1, 2, 1)\n",
    "plt.plot(epochs_range, acc, label='Training Accuracy')\n",
    "plt.plot(epochs_range, val_acc, label='Validation Accuracy')\n",
    "plt.legend(loc='lower right')\n",
    "plt.title('Training and Validation Accuracy')\n",
    "\n",
    "plt.subplot(1, 2, 2)\n",
    "plt.plot(epochs_range, loss, label='Training Loss')\n",
    "plt.plot(epochs_range, val_loss, label='Validation Loss')\n",
    "plt.legend(loc='upper right')\n",
    "plt.title('Training and Validation Loss')\n",
    "plt.show()"
   ],
   "metadata": {
    "collapsed": false,
    "ExecuteTime": {
     "start_time": "2023-10-03T13:37:35.933310700Z"
    }
   },
   "id": "c1934c7ccdfd3ac2"
  },
  {
   "cell_type": "code",
   "execution_count": null,
   "outputs": [],
   "source": [],
   "metadata": {
    "collapsed": false,
    "ExecuteTime": {
     "start_time": "2023-10-03T13:37:35.933310700Z"
    }
   },
   "id": "976d5e14d0cf651"
  }
 ],
 "metadata": {
  "kernelspec": {
   "display_name": "Python 3",
   "language": "python",
   "name": "python3"
  },
  "language_info": {
   "codemirror_mode": {
    "name": "ipython",
    "version": 2
   },
   "file_extension": ".py",
   "mimetype": "text/x-python",
   "name": "python",
   "nbconvert_exporter": "python",
   "pygments_lexer": "ipython2",
   "version": "2.7.6"
  }
 },
 "nbformat": 4,
 "nbformat_minor": 5
}
